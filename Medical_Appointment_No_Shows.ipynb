{
 "cells": [
  {
   "cell_type": "markdown",
   "metadata": {},
   "source": [
    "### Medical Appoitment No Shown Project\n",
    "(Kaggle: https://www.kaggle.com/joniarroba/noshowappointments)"
   ]
  },
  {
   "cell_type": "markdown",
   "metadata": {},
   "source": [
    "In this project..."
   ]
  },
  {
   "cell_type": "markdown",
   "metadata": {},
   "source": [
    "### Import libraries "
   ]
  },
  {
   "cell_type": "code",
   "execution_count": 97,
   "metadata": {
    "ExecuteTime": {
     "end_time": "2021-09-29T15:26:29.482459Z",
     "start_time": "2021-09-29T15:26:27.719729Z"
    }
   },
   "outputs": [],
   "source": [
    "import pandas as pd\n",
    "import numpy as np\n",
    "import matplotlib.pyplot as plt\n",
    "%matplotlib inline\n",
    "\n",
    "import seaborn as sns"
   ]
  },
  {
   "cell_type": "markdown",
   "metadata": {},
   "source": [
    "### Load data and EDA"
   ]
  },
  {
   "cell_type": "code",
   "execution_count": 2,
   "metadata": {
    "ExecuteTime": {
     "end_time": "2021-09-29T14:46:49.704691Z",
     "start_time": "2021-09-29T14:46:49.549640Z"
    },
    "scrolled": true
   },
   "outputs": [
    {
     "data": {
      "text/html": [
       "<div>\n",
       "<style scoped>\n",
       "    .dataframe tbody tr th:only-of-type {\n",
       "        vertical-align: middle;\n",
       "    }\n",
       "\n",
       "    .dataframe tbody tr th {\n",
       "        vertical-align: top;\n",
       "    }\n",
       "\n",
       "    .dataframe thead th {\n",
       "        text-align: right;\n",
       "    }\n",
       "</style>\n",
       "<table border=\"1\" class=\"dataframe\">\n",
       "  <thead>\n",
       "    <tr style=\"text-align: right;\">\n",
       "      <th></th>\n",
       "      <th>PatientId</th>\n",
       "      <th>AppointmentID</th>\n",
       "      <th>Gender</th>\n",
       "      <th>ScheduledDay</th>\n",
       "      <th>AppointmentDay</th>\n",
       "      <th>Age</th>\n",
       "      <th>Neighbourhood</th>\n",
       "      <th>Scholarship</th>\n",
       "      <th>Hipertension</th>\n",
       "      <th>Diabetes</th>\n",
       "      <th>Alcoholism</th>\n",
       "      <th>Handcap</th>\n",
       "      <th>SMS_received</th>\n",
       "      <th>No-show</th>\n",
       "    </tr>\n",
       "  </thead>\n",
       "  <tbody>\n",
       "    <tr>\n",
       "      <th>0</th>\n",
       "      <td>2.987250e+13</td>\n",
       "      <td>5642903</td>\n",
       "      <td>F</td>\n",
       "      <td>2016-04-29T18:38:08Z</td>\n",
       "      <td>2016-04-29T00:00:00Z</td>\n",
       "      <td>62</td>\n",
       "      <td>JARDIM DA PENHA</td>\n",
       "      <td>0</td>\n",
       "      <td>1</td>\n",
       "      <td>0</td>\n",
       "      <td>0</td>\n",
       "      <td>0</td>\n",
       "      <td>0</td>\n",
       "      <td>No</td>\n",
       "    </tr>\n",
       "    <tr>\n",
       "      <th>1</th>\n",
       "      <td>5.589978e+14</td>\n",
       "      <td>5642503</td>\n",
       "      <td>M</td>\n",
       "      <td>2016-04-29T16:08:27Z</td>\n",
       "      <td>2016-04-29T00:00:00Z</td>\n",
       "      <td>56</td>\n",
       "      <td>JARDIM DA PENHA</td>\n",
       "      <td>0</td>\n",
       "      <td>0</td>\n",
       "      <td>0</td>\n",
       "      <td>0</td>\n",
       "      <td>0</td>\n",
       "      <td>0</td>\n",
       "      <td>No</td>\n",
       "    </tr>\n",
       "    <tr>\n",
       "      <th>2</th>\n",
       "      <td>4.262962e+12</td>\n",
       "      <td>5642549</td>\n",
       "      <td>F</td>\n",
       "      <td>2016-04-29T16:19:04Z</td>\n",
       "      <td>2016-04-29T00:00:00Z</td>\n",
       "      <td>62</td>\n",
       "      <td>MATA DA PRAIA</td>\n",
       "      <td>0</td>\n",
       "      <td>0</td>\n",
       "      <td>0</td>\n",
       "      <td>0</td>\n",
       "      <td>0</td>\n",
       "      <td>0</td>\n",
       "      <td>No</td>\n",
       "    </tr>\n",
       "    <tr>\n",
       "      <th>3</th>\n",
       "      <td>8.679512e+11</td>\n",
       "      <td>5642828</td>\n",
       "      <td>F</td>\n",
       "      <td>2016-04-29T17:29:31Z</td>\n",
       "      <td>2016-04-29T00:00:00Z</td>\n",
       "      <td>8</td>\n",
       "      <td>PONTAL DE CAMBURI</td>\n",
       "      <td>0</td>\n",
       "      <td>0</td>\n",
       "      <td>0</td>\n",
       "      <td>0</td>\n",
       "      <td>0</td>\n",
       "      <td>0</td>\n",
       "      <td>No</td>\n",
       "    </tr>\n",
       "    <tr>\n",
       "      <th>4</th>\n",
       "      <td>8.841186e+12</td>\n",
       "      <td>5642494</td>\n",
       "      <td>F</td>\n",
       "      <td>2016-04-29T16:07:23Z</td>\n",
       "      <td>2016-04-29T00:00:00Z</td>\n",
       "      <td>56</td>\n",
       "      <td>JARDIM DA PENHA</td>\n",
       "      <td>0</td>\n",
       "      <td>1</td>\n",
       "      <td>1</td>\n",
       "      <td>0</td>\n",
       "      <td>0</td>\n",
       "      <td>0</td>\n",
       "      <td>No</td>\n",
       "    </tr>\n",
       "  </tbody>\n",
       "</table>\n",
       "</div>"
      ],
      "text/plain": [
       "      PatientId  AppointmentID Gender          ScheduledDay  \\\n",
       "0  2.987250e+13        5642903      F  2016-04-29T18:38:08Z   \n",
       "1  5.589978e+14        5642503      M  2016-04-29T16:08:27Z   \n",
       "2  4.262962e+12        5642549      F  2016-04-29T16:19:04Z   \n",
       "3  8.679512e+11        5642828      F  2016-04-29T17:29:31Z   \n",
       "4  8.841186e+12        5642494      F  2016-04-29T16:07:23Z   \n",
       "\n",
       "         AppointmentDay  Age      Neighbourhood  Scholarship  Hipertension  \\\n",
       "0  2016-04-29T00:00:00Z   62    JARDIM DA PENHA            0             1   \n",
       "1  2016-04-29T00:00:00Z   56    JARDIM DA PENHA            0             0   \n",
       "2  2016-04-29T00:00:00Z   62      MATA DA PRAIA            0             0   \n",
       "3  2016-04-29T00:00:00Z    8  PONTAL DE CAMBURI            0             0   \n",
       "4  2016-04-29T00:00:00Z   56    JARDIM DA PENHA            0             1   \n",
       "\n",
       "   Diabetes  Alcoholism  Handcap  SMS_received No-show  \n",
       "0         0           0        0             0      No  \n",
       "1         0           0        0             0      No  \n",
       "2         0           0        0             0      No  \n",
       "3         0           0        0             0      No  \n",
       "4         1           0        0             0      No  "
      ]
     },
     "execution_count": 2,
     "metadata": {},
     "output_type": "execute_result"
    }
   ],
   "source": [
    "df = pd.read_csv('KaggleV2-May-2016.csv')\n",
    "df.head()"
   ]
  },
  {
   "cell_type": "code",
   "execution_count": 3,
   "metadata": {
    "ExecuteTime": {
     "end_time": "2021-09-29T14:46:49.719706Z",
     "start_time": "2021-09-29T14:46:49.709714Z"
    }
   },
   "outputs": [
    {
     "data": {
      "text/plain": [
       "(110527, 14)"
      ]
     },
     "execution_count": 3,
     "metadata": {},
     "output_type": "execute_result"
    }
   ],
   "source": [
    "df.shape #we have 110527 rows and 14 columns"
   ]
  },
  {
   "cell_type": "code",
   "execution_count": 4,
   "metadata": {
    "ExecuteTime": {
     "end_time": "2021-09-29T14:46:49.767568Z",
     "start_time": "2021-09-29T14:46:49.726699Z"
    }
   },
   "outputs": [
    {
     "name": "stdout",
     "output_type": "stream",
     "text": [
      "<class 'pandas.core.frame.DataFrame'>\n",
      "RangeIndex: 110527 entries, 0 to 110526\n",
      "Data columns (total 14 columns):\n",
      " #   Column          Non-Null Count   Dtype  \n",
      "---  ------          --------------   -----  \n",
      " 0   PatientId       110527 non-null  float64\n",
      " 1   AppointmentID   110527 non-null  int64  \n",
      " 2   Gender          110527 non-null  object \n",
      " 3   ScheduledDay    110527 non-null  object \n",
      " 4   AppointmentDay  110527 non-null  object \n",
      " 5   Age             110527 non-null  int64  \n",
      " 6   Neighbourhood   110527 non-null  object \n",
      " 7   Scholarship     110527 non-null  int64  \n",
      " 8   Hipertension    110527 non-null  int64  \n",
      " 9   Diabetes        110527 non-null  int64  \n",
      " 10  Alcoholism      110527 non-null  int64  \n",
      " 11  Handcap         110527 non-null  int64  \n",
      " 12  SMS_received    110527 non-null  int64  \n",
      " 13  No-show         110527 non-null  object \n",
      "dtypes: float64(1), int64(8), object(5)\n",
      "memory usage: 11.8+ MB\n"
     ]
    }
   ],
   "source": [
    "df.info()"
   ]
  },
  {
   "cell_type": "markdown",
   "metadata": {},
   "source": [
    "We have couple things to mention after taking a closer look on the data:\n",
    "* There is **no NaN value in the dataset** which is good news\n",
    "* **Patient ID** is a float **not Int**, so I will convert it to Int64\n",
    "* **ScheduledDay** and **AppointmentDay** are Objects **not DateTimes**, so I will convert it to DateTime\n",
    "* Typeos in column names\n",
    "* We have to handle that **ScheduledDay has times (hour/minute)** while **AppointmentDay only includes T00:00:00Z**"
   ]
  },
  {
   "cell_type": "code",
   "execution_count": 5,
   "metadata": {
    "ExecuteTime": {
     "end_time": "2021-09-29T14:46:50.050982Z",
     "start_time": "2021-09-29T14:46:49.769989Z"
    }
   },
   "outputs": [],
   "source": [
    "#patientID to Int\n",
    "df[\"PatientId\"] = df[\"PatientId\"].astype('int64')\n",
    "\n",
    "#convert Objects to DateTimes\n",
    "df[\"ScheduledDay\"] = pd.to_datetime(df[\"ScheduledDay\"], format = '%Y-%m-%dT%H:%M:%SZ', errors = 'coerce')\n",
    "df[\"AppointmentDay\"] = pd.to_datetime(df[\"AppointmentDay\"], format = '%Y-%m-%dT%H:%M:%SZ', errors = 'coerce')\n",
    "\n",
    "#correct typeos\n",
    "df = df.rename(columns={'Hipertension': 'Hypertension', 'Handcap': 'Handicap', 'SMS_received': 'SMSReceived', 'No-show': 'NoShow'})"
   ]
  },
  {
   "cell_type": "code",
   "execution_count": 6,
   "metadata": {
    "ExecuteTime": {
     "end_time": "2021-09-29T14:46:50.066335Z",
     "start_time": "2021-09-29T14:46:50.051968Z"
    }
   },
   "outputs": [],
   "source": [
    "#make sure all the dates are in the right format\n",
    "assert df.ScheduledDay.isnull().sum() == 0, 'missing ScheduledDay dates'\n",
    "assert df.AppointmentDay.isnull().sum() == 0, 'missing AppointmentDay dates'"
   ]
  },
  {
   "cell_type": "code",
   "execution_count": 7,
   "metadata": {
    "ExecuteTime": {
     "end_time": "2021-09-29T14:46:50.097530Z",
     "start_time": "2021-09-29T14:46:50.069340Z"
    },
    "scrolled": true
   },
   "outputs": [
    {
     "name": "stdout",
     "output_type": "stream",
     "text": [
      "<class 'pandas.core.frame.DataFrame'>\n",
      "RangeIndex: 110527 entries, 0 to 110526\n",
      "Data columns (total 14 columns):\n",
      " #   Column          Non-Null Count   Dtype         \n",
      "---  ------          --------------   -----         \n",
      " 0   PatientId       110527 non-null  int64         \n",
      " 1   AppointmentID   110527 non-null  int64         \n",
      " 2   Gender          110527 non-null  object        \n",
      " 3   ScheduledDay    110527 non-null  datetime64[ns]\n",
      " 4   AppointmentDay  110527 non-null  datetime64[ns]\n",
      " 5   Age             110527 non-null  int64         \n",
      " 6   Neighbourhood   110527 non-null  object        \n",
      " 7   Scholarship     110527 non-null  int64         \n",
      " 8   Hypertension    110527 non-null  int64         \n",
      " 9   Diabetes        110527 non-null  int64         \n",
      " 10  Alcoholism      110527 non-null  int64         \n",
      " 11  Handicap        110527 non-null  int64         \n",
      " 12  SMSReceived     110527 non-null  int64         \n",
      " 13  NoShow          110527 non-null  object        \n",
      "dtypes: datetime64[ns](2), int64(9), object(3)\n",
      "memory usage: 11.8+ MB\n"
     ]
    }
   ],
   "source": [
    "df.info()"
   ]
  },
  {
   "cell_type": "markdown",
   "metadata": {},
   "source": [
    "Since _PatientId_ and _AppointmentID_ are just some system generated numbers and shouldn't be used for predicting the target variable, I will remove them."
   ]
  },
  {
   "cell_type": "code",
   "execution_count": 8,
   "metadata": {
    "ExecuteTime": {
     "end_time": "2021-09-29T14:46:50.113047Z",
     "start_time": "2021-09-29T14:46:50.099052Z"
    }
   },
   "outputs": [],
   "source": [
    "df.drop([\"PatientId\",\"AppointmentID\"],axis=1, inplace=True)"
   ]
  },
  {
   "cell_type": "markdown",
   "metadata": {
    "ExecuteTime": {
     "end_time": "2021-09-29T14:46:50.129092Z",
     "start_time": "2021-09-29T14:46:50.115050Z"
    }
   },
   "source": [
    "Let's check some irregular cases, firstly the age of the patients(can't be < 0) or that the _ScheduledDay_ can't be later than the _AppointmentDay_"
   ]
  },
  {
   "cell_type": "code",
   "execution_count": 12,
   "metadata": {
    "ExecuteTime": {
     "end_time": "2021-09-29T14:50:51.890989Z",
     "start_time": "2021-09-29T14:50:51.865957Z"
    }
   },
   "outputs": [
    {
     "name": "stdout",
     "output_type": "stream",
     "text": [
      "Patients with `Age` less than 0 -> 1\n",
      "Patients with `Age` equal to 0 -> 3539\n"
     ]
    }
   ],
   "source": [
    "print(\"Patients with `Age` less than 0 -> {}\".format(df[df.Age < 0].shape[0])) #we assume that this is a type so we are going to remove it\n",
    "print(\"Patients with `Age` equal to 0 -> {}\".format(df[df.Age == 0].shape[0])) #those are babies, but we will make sure"
   ]
  },
  {
   "cell_type": "code",
   "execution_count": 13,
   "metadata": {
    "ExecuteTime": {
     "end_time": "2021-09-29T14:51:12.057024Z",
     "start_time": "2021-09-29T14:51:12.026931Z"
    }
   },
   "outputs": [],
   "source": [
    "df = df[df.Age >= 0] #remove that 1 row"
   ]
  },
  {
   "cell_type": "markdown",
   "metadata": {},
   "source": [
    "Most of the times babies do not have _Alcoholism_ or _Hypertension_, therefore we are going to analyze these features."
   ]
  },
  {
   "cell_type": "code",
   "execution_count": 14,
   "metadata": {
    "ExecuteTime": {
     "end_time": "2021-09-29T14:52:47.016280Z",
     "start_time": "2021-09-29T14:52:46.999437Z"
    }
   },
   "outputs": [
    {
     "data": {
      "text/html": [
       "<div>\n",
       "<style scoped>\n",
       "    .dataframe tbody tr th:only-of-type {\n",
       "        vertical-align: middle;\n",
       "    }\n",
       "\n",
       "    .dataframe tbody tr th {\n",
       "        vertical-align: top;\n",
       "    }\n",
       "\n",
       "    .dataframe thead th {\n",
       "        text-align: right;\n",
       "    }\n",
       "</style>\n",
       "<table border=\"1\" class=\"dataframe\">\n",
       "  <thead>\n",
       "    <tr style=\"text-align: right;\">\n",
       "      <th></th>\n",
       "      <th>Gender</th>\n",
       "      <th>ScheduledDay</th>\n",
       "      <th>AppointmentDay</th>\n",
       "      <th>Age</th>\n",
       "      <th>Neighbourhood</th>\n",
       "      <th>Scholarship</th>\n",
       "      <th>Hypertension</th>\n",
       "      <th>Diabetes</th>\n",
       "      <th>Alcoholism</th>\n",
       "      <th>Handicap</th>\n",
       "      <th>SMSReceived</th>\n",
       "      <th>NoShow</th>\n",
       "    </tr>\n",
       "  </thead>\n",
       "  <tbody>\n",
       "  </tbody>\n",
       "</table>\n",
       "</div>"
      ],
      "text/plain": [
       "Empty DataFrame\n",
       "Columns: [Gender, ScheduledDay, AppointmentDay, Age, Neighbourhood, Scholarship, Hypertension, Diabetes, Alcoholism, Handicap, SMSReceived, NoShow]\n",
       "Index: []"
      ]
     },
     "execution_count": 14,
     "metadata": {},
     "output_type": "execute_result"
    }
   ],
   "source": [
    "df[(df.Age == 0) & ((df.Hypertension.astype(int) == 1) | (df.Alcoholism.astype(int) == 1))]"
   ]
  },
  {
   "cell_type": "markdown",
   "metadata": {},
   "source": [
    "Since there is no any results, we can assume that our hyphothesis that those are babies are true so we are going to keep these rows."
   ]
  },
  {
   "cell_type": "code",
   "execution_count": 17,
   "metadata": {
    "ExecuteTime": {
     "end_time": "2021-09-29T14:57:26.106099Z",
     "start_time": "2021-09-29T14:57:26.086064Z"
    }
   },
   "outputs": [
    {
     "data": {
      "text/plain": [
       "38567"
      ]
     },
     "execution_count": 17,
     "metadata": {},
     "output_type": "execute_result"
    }
   ],
   "source": [
    "(df['ScheduledDay'] > df['AppointmentDay']).sum() #there are approximately 40k appointments that were scheduled after\n",
    "                                                  #the appointment day\n",
    "                                                  #However, It is due to fact that all the appointment times were set at the\n",
    "                                                  #earliest time (T:00:00:0Z) while times are included in ScheduledDay"
   ]
  },
  {
   "cell_type": "code",
   "execution_count": 18,
   "metadata": {
    "ExecuteTime": {
     "end_time": "2021-09-29T14:58:06.900744Z",
     "start_time": "2021-09-29T14:58:06.887749Z"
    }
   },
   "outputs": [],
   "source": [
    "df['AppointmentDay'] = df['AppointmentDay'] + pd.Timedelta('1d')-pd.Timedelta('1s') #changing the date to (23:59:59)"
   ]
  },
  {
   "cell_type": "code",
   "execution_count": 20,
   "metadata": {
    "ExecuteTime": {
     "end_time": "2021-09-29T14:59:27.303816Z",
     "start_time": "2021-09-29T14:59:27.290819Z"
    }
   },
   "outputs": [
    {
     "data": {
      "text/plain": [
       "5"
      ]
     },
     "execution_count": 20,
     "metadata": {},
     "output_type": "execute_result"
    }
   ],
   "source": [
    "(df['ScheduledDay'] > df['AppointmentDay']).sum() #after chaning the time only 5 rows left were the Scheduled time is after the\n",
    "                                                  #appointment time, so we are going to drop these 5 rows"
   ]
  },
  {
   "cell_type": "code",
   "execution_count": 23,
   "metadata": {
    "ExecuteTime": {
     "end_time": "2021-09-29T15:02:06.668280Z",
     "start_time": "2021-09-29T15:02:06.641395Z"
    }
   },
   "outputs": [],
   "source": [
    "df = df.drop(df[df.ScheduledDay > df.AppointmentDay].index) #drop those 5 rows"
   ]
  },
  {
   "cell_type": "code",
   "execution_count": 24,
   "metadata": {
    "ExecuteTime": {
     "end_time": "2021-09-29T15:02:08.580395Z",
     "start_time": "2021-09-29T15:02:08.551395Z"
    }
   },
   "outputs": [
    {
     "data": {
      "text/html": [
       "<div>\n",
       "<style scoped>\n",
       "    .dataframe tbody tr th:only-of-type {\n",
       "        vertical-align: middle;\n",
       "    }\n",
       "\n",
       "    .dataframe tbody tr th {\n",
       "        vertical-align: top;\n",
       "    }\n",
       "\n",
       "    .dataframe thead th {\n",
       "        text-align: right;\n",
       "    }\n",
       "</style>\n",
       "<table border=\"1\" class=\"dataframe\">\n",
       "  <thead>\n",
       "    <tr style=\"text-align: right;\">\n",
       "      <th></th>\n",
       "      <th>Gender</th>\n",
       "      <th>ScheduledDay</th>\n",
       "      <th>AppointmentDay</th>\n",
       "      <th>Age</th>\n",
       "      <th>Neighbourhood</th>\n",
       "      <th>Scholarship</th>\n",
       "      <th>Hypertension</th>\n",
       "      <th>Diabetes</th>\n",
       "      <th>Alcoholism</th>\n",
       "      <th>Handicap</th>\n",
       "      <th>SMSReceived</th>\n",
       "      <th>NoShow</th>\n",
       "    </tr>\n",
       "  </thead>\n",
       "  <tbody>\n",
       "    <tr>\n",
       "      <th>0</th>\n",
       "      <td>F</td>\n",
       "      <td>2016-04-29 18:38:08</td>\n",
       "      <td>2016-04-29 23:59:59</td>\n",
       "      <td>62</td>\n",
       "      <td>JARDIM DA PENHA</td>\n",
       "      <td>0</td>\n",
       "      <td>1</td>\n",
       "      <td>0</td>\n",
       "      <td>0</td>\n",
       "      <td>0</td>\n",
       "      <td>0</td>\n",
       "      <td>No</td>\n",
       "    </tr>\n",
       "    <tr>\n",
       "      <th>1</th>\n",
       "      <td>M</td>\n",
       "      <td>2016-04-29 16:08:27</td>\n",
       "      <td>2016-04-29 23:59:59</td>\n",
       "      <td>56</td>\n",
       "      <td>JARDIM DA PENHA</td>\n",
       "      <td>0</td>\n",
       "      <td>0</td>\n",
       "      <td>0</td>\n",
       "      <td>0</td>\n",
       "      <td>0</td>\n",
       "      <td>0</td>\n",
       "      <td>No</td>\n",
       "    </tr>\n",
       "    <tr>\n",
       "      <th>2</th>\n",
       "      <td>F</td>\n",
       "      <td>2016-04-29 16:19:04</td>\n",
       "      <td>2016-04-29 23:59:59</td>\n",
       "      <td>62</td>\n",
       "      <td>MATA DA PRAIA</td>\n",
       "      <td>0</td>\n",
       "      <td>0</td>\n",
       "      <td>0</td>\n",
       "      <td>0</td>\n",
       "      <td>0</td>\n",
       "      <td>0</td>\n",
       "      <td>No</td>\n",
       "    </tr>\n",
       "    <tr>\n",
       "      <th>3</th>\n",
       "      <td>F</td>\n",
       "      <td>2016-04-29 17:29:31</td>\n",
       "      <td>2016-04-29 23:59:59</td>\n",
       "      <td>8</td>\n",
       "      <td>PONTAL DE CAMBURI</td>\n",
       "      <td>0</td>\n",
       "      <td>0</td>\n",
       "      <td>0</td>\n",
       "      <td>0</td>\n",
       "      <td>0</td>\n",
       "      <td>0</td>\n",
       "      <td>No</td>\n",
       "    </tr>\n",
       "    <tr>\n",
       "      <th>4</th>\n",
       "      <td>F</td>\n",
       "      <td>2016-04-29 16:07:23</td>\n",
       "      <td>2016-04-29 23:59:59</td>\n",
       "      <td>56</td>\n",
       "      <td>JARDIM DA PENHA</td>\n",
       "      <td>0</td>\n",
       "      <td>1</td>\n",
       "      <td>1</td>\n",
       "      <td>0</td>\n",
       "      <td>0</td>\n",
       "      <td>0</td>\n",
       "      <td>No</td>\n",
       "    </tr>\n",
       "    <tr>\n",
       "      <th>...</th>\n",
       "      <td>...</td>\n",
       "      <td>...</td>\n",
       "      <td>...</td>\n",
       "      <td>...</td>\n",
       "      <td>...</td>\n",
       "      <td>...</td>\n",
       "      <td>...</td>\n",
       "      <td>...</td>\n",
       "      <td>...</td>\n",
       "      <td>...</td>\n",
       "      <td>...</td>\n",
       "      <td>...</td>\n",
       "    </tr>\n",
       "    <tr>\n",
       "      <th>110522</th>\n",
       "      <td>F</td>\n",
       "      <td>2016-05-03 09:15:35</td>\n",
       "      <td>2016-06-07 23:59:59</td>\n",
       "      <td>56</td>\n",
       "      <td>MARIA ORTIZ</td>\n",
       "      <td>0</td>\n",
       "      <td>0</td>\n",
       "      <td>0</td>\n",
       "      <td>0</td>\n",
       "      <td>0</td>\n",
       "      <td>1</td>\n",
       "      <td>No</td>\n",
       "    </tr>\n",
       "    <tr>\n",
       "      <th>110523</th>\n",
       "      <td>F</td>\n",
       "      <td>2016-05-03 07:27:33</td>\n",
       "      <td>2016-06-07 23:59:59</td>\n",
       "      <td>51</td>\n",
       "      <td>MARIA ORTIZ</td>\n",
       "      <td>0</td>\n",
       "      <td>0</td>\n",
       "      <td>0</td>\n",
       "      <td>0</td>\n",
       "      <td>0</td>\n",
       "      <td>1</td>\n",
       "      <td>No</td>\n",
       "    </tr>\n",
       "    <tr>\n",
       "      <th>110524</th>\n",
       "      <td>F</td>\n",
       "      <td>2016-04-27 16:03:52</td>\n",
       "      <td>2016-06-07 23:59:59</td>\n",
       "      <td>21</td>\n",
       "      <td>MARIA ORTIZ</td>\n",
       "      <td>0</td>\n",
       "      <td>0</td>\n",
       "      <td>0</td>\n",
       "      <td>0</td>\n",
       "      <td>0</td>\n",
       "      <td>1</td>\n",
       "      <td>No</td>\n",
       "    </tr>\n",
       "    <tr>\n",
       "      <th>110525</th>\n",
       "      <td>F</td>\n",
       "      <td>2016-04-27 15:09:23</td>\n",
       "      <td>2016-06-07 23:59:59</td>\n",
       "      <td>38</td>\n",
       "      <td>MARIA ORTIZ</td>\n",
       "      <td>0</td>\n",
       "      <td>0</td>\n",
       "      <td>0</td>\n",
       "      <td>0</td>\n",
       "      <td>0</td>\n",
       "      <td>1</td>\n",
       "      <td>No</td>\n",
       "    </tr>\n",
       "    <tr>\n",
       "      <th>110526</th>\n",
       "      <td>F</td>\n",
       "      <td>2016-04-27 13:30:56</td>\n",
       "      <td>2016-06-07 23:59:59</td>\n",
       "      <td>54</td>\n",
       "      <td>MARIA ORTIZ</td>\n",
       "      <td>0</td>\n",
       "      <td>0</td>\n",
       "      <td>0</td>\n",
       "      <td>0</td>\n",
       "      <td>0</td>\n",
       "      <td>1</td>\n",
       "      <td>No</td>\n",
       "    </tr>\n",
       "  </tbody>\n",
       "</table>\n",
       "<p>110521 rows × 12 columns</p>\n",
       "</div>"
      ],
      "text/plain": [
       "       Gender        ScheduledDay      AppointmentDay  Age      Neighbourhood  \\\n",
       "0           F 2016-04-29 18:38:08 2016-04-29 23:59:59   62    JARDIM DA PENHA   \n",
       "1           M 2016-04-29 16:08:27 2016-04-29 23:59:59   56    JARDIM DA PENHA   \n",
       "2           F 2016-04-29 16:19:04 2016-04-29 23:59:59   62      MATA DA PRAIA   \n",
       "3           F 2016-04-29 17:29:31 2016-04-29 23:59:59    8  PONTAL DE CAMBURI   \n",
       "4           F 2016-04-29 16:07:23 2016-04-29 23:59:59   56    JARDIM DA PENHA   \n",
       "...       ...                 ...                 ...  ...                ...   \n",
       "110522      F 2016-05-03 09:15:35 2016-06-07 23:59:59   56        MARIA ORTIZ   \n",
       "110523      F 2016-05-03 07:27:33 2016-06-07 23:59:59   51        MARIA ORTIZ   \n",
       "110524      F 2016-04-27 16:03:52 2016-06-07 23:59:59   21        MARIA ORTIZ   \n",
       "110525      F 2016-04-27 15:09:23 2016-06-07 23:59:59   38        MARIA ORTIZ   \n",
       "110526      F 2016-04-27 13:30:56 2016-06-07 23:59:59   54        MARIA ORTIZ   \n",
       "\n",
       "        Scholarship  Hypertension  Diabetes  Alcoholism  Handicap  \\\n",
       "0                 0             1         0           0         0   \n",
       "1                 0             0         0           0         0   \n",
       "2                 0             0         0           0         0   \n",
       "3                 0             0         0           0         0   \n",
       "4                 0             1         1           0         0   \n",
       "...             ...           ...       ...         ...       ...   \n",
       "110522            0             0         0           0         0   \n",
       "110523            0             0         0           0         0   \n",
       "110524            0             0         0           0         0   \n",
       "110525            0             0         0           0         0   \n",
       "110526            0             0         0           0         0   \n",
       "\n",
       "        SMSReceived NoShow  \n",
       "0                 0     No  \n",
       "1                 0     No  \n",
       "2                 0     No  \n",
       "3                 0     No  \n",
       "4                 0     No  \n",
       "...             ...    ...  \n",
       "110522            1     No  \n",
       "110523            1     No  \n",
       "110524            1     No  \n",
       "110525            1     No  \n",
       "110526            1     No  \n",
       "\n",
       "[110521 rows x 12 columns]"
      ]
     },
     "execution_count": 24,
     "metadata": {},
     "output_type": "execute_result"
    }
   ],
   "source": [
    "df"
   ]
  },
  {
   "cell_type": "code",
   "execution_count": 26,
   "metadata": {
    "ExecuteTime": {
     "end_time": "2021-09-29T15:14:46.040952Z",
     "start_time": "2021-09-29T15:14:45.956918Z"
    }
   },
   "outputs": [],
   "source": [
    "#Adding new columns which will be created by using DateTime columns\n",
    "#First - Waiitng Time in Days\n",
    "df['Waiting_Time_days'] = df['AppointmentDay'] - df['ScheduledDay']\n",
    "df['Waiting_Time_days'] = df['Waiting_Time_days'].dt.days\n",
    "\n",
    "#Secondly - Day of the Week (both Schedule and Appointment day)\n",
    "df['ScheduledDay_DOfW'] = df['ScheduledDay'].dt.day_name()\n",
    "df['AppointmentDay_DOfW'] = df['AppointmentDay'].dt.day_name()"
   ]
  },
  {
   "cell_type": "code",
   "execution_count": 95,
   "metadata": {
    "ExecuteTime": {
     "end_time": "2021-09-29T15:15:33.381396Z",
     "start_time": "2021-09-29T15:15:33.351235Z"
    },
    "scrolled": true
   },
   "outputs": [
    {
     "data": {
      "text/html": [
       "<div>\n",
       "<style scoped>\n",
       "    .dataframe tbody tr th:only-of-type {\n",
       "        vertical-align: middle;\n",
       "    }\n",
       "\n",
       "    .dataframe tbody tr th {\n",
       "        vertical-align: top;\n",
       "    }\n",
       "\n",
       "    .dataframe thead th {\n",
       "        text-align: right;\n",
       "    }\n",
       "</style>\n",
       "<table border=\"1\" class=\"dataframe\">\n",
       "  <thead>\n",
       "    <tr style=\"text-align: right;\">\n",
       "      <th></th>\n",
       "      <th>Gender</th>\n",
       "      <th>ScheduledDay</th>\n",
       "      <th>AppointmentDay</th>\n",
       "      <th>Age</th>\n",
       "      <th>Neighbourhood</th>\n",
       "      <th>Scholarship</th>\n",
       "      <th>Hypertension</th>\n",
       "      <th>Diabetes</th>\n",
       "      <th>Alcoholism</th>\n",
       "      <th>Handicap</th>\n",
       "      <th>SMSReceived</th>\n",
       "      <th>NoShow</th>\n",
       "      <th>Waiting_Time_days</th>\n",
       "      <th>ScheduledDay_DOfW</th>\n",
       "      <th>AppointmentDay_DOfW</th>\n",
       "    </tr>\n",
       "  </thead>\n",
       "  <tbody>\n",
       "    <tr>\n",
       "      <th>72865</th>\n",
       "      <td>M</td>\n",
       "      <td>2016-05-11 07:19:19</td>\n",
       "      <td>2016-05-11 23:59:59</td>\n",
       "      <td>30</td>\n",
       "      <td>ANDORINHAS</td>\n",
       "      <td>0</td>\n",
       "      <td>0</td>\n",
       "      <td>0</td>\n",
       "      <td>0</td>\n",
       "      <td>0</td>\n",
       "      <td>0</td>\n",
       "      <td>No</td>\n",
       "      <td>0</td>\n",
       "      <td>Wednesday</td>\n",
       "      <td>Wednesday</td>\n",
       "    </tr>\n",
       "    <tr>\n",
       "      <th>67973</th>\n",
       "      <td>F</td>\n",
       "      <td>2016-03-23 10:25:25</td>\n",
       "      <td>2016-05-11 23:59:59</td>\n",
       "      <td>50</td>\n",
       "      <td>JARDIM CAMBURI</td>\n",
       "      <td>0</td>\n",
       "      <td>0</td>\n",
       "      <td>0</td>\n",
       "      <td>0</td>\n",
       "      <td>0</td>\n",
       "      <td>1</td>\n",
       "      <td>No</td>\n",
       "      <td>49</td>\n",
       "      <td>Wednesday</td>\n",
       "      <td>Wednesday</td>\n",
       "    </tr>\n",
       "    <tr>\n",
       "      <th>90016</th>\n",
       "      <td>F</td>\n",
       "      <td>2016-05-20 16:25:02</td>\n",
       "      <td>2016-06-03 23:59:59</td>\n",
       "      <td>43</td>\n",
       "      <td>SÃO PEDRO</td>\n",
       "      <td>1</td>\n",
       "      <td>0</td>\n",
       "      <td>0</td>\n",
       "      <td>0</td>\n",
       "      <td>0</td>\n",
       "      <td>1</td>\n",
       "      <td>Yes</td>\n",
       "      <td>14</td>\n",
       "      <td>Friday</td>\n",
       "      <td>Friday</td>\n",
       "    </tr>\n",
       "    <tr>\n",
       "      <th>89885</th>\n",
       "      <td>M</td>\n",
       "      <td>2016-04-26 07:59:33</td>\n",
       "      <td>2016-06-06 23:59:59</td>\n",
       "      <td>13</td>\n",
       "      <td>BONFIM</td>\n",
       "      <td>0</td>\n",
       "      <td>0</td>\n",
       "      <td>0</td>\n",
       "      <td>0</td>\n",
       "      <td>0</td>\n",
       "      <td>1</td>\n",
       "      <td>No</td>\n",
       "      <td>41</td>\n",
       "      <td>Tuesday</td>\n",
       "      <td>Monday</td>\n",
       "    </tr>\n",
       "    <tr>\n",
       "      <th>90756</th>\n",
       "      <td>F</td>\n",
       "      <td>2016-06-08 10:18:19</td>\n",
       "      <td>2016-06-08 23:59:59</td>\n",
       "      <td>1</td>\n",
       "      <td>JARDIM DA PENHA</td>\n",
       "      <td>0</td>\n",
       "      <td>0</td>\n",
       "      <td>0</td>\n",
       "      <td>0</td>\n",
       "      <td>0</td>\n",
       "      <td>0</td>\n",
       "      <td>No</td>\n",
       "      <td>0</td>\n",
       "      <td>Wednesday</td>\n",
       "      <td>Wednesday</td>\n",
       "    </tr>\n",
       "    <tr>\n",
       "      <th>49465</th>\n",
       "      <td>F</td>\n",
       "      <td>2016-05-06 07:41:59</td>\n",
       "      <td>2016-05-12 23:59:59</td>\n",
       "      <td>37</td>\n",
       "      <td>SANTOS DUMONT</td>\n",
       "      <td>1</td>\n",
       "      <td>0</td>\n",
       "      <td>0</td>\n",
       "      <td>0</td>\n",
       "      <td>0</td>\n",
       "      <td>1</td>\n",
       "      <td>No</td>\n",
       "      <td>6</td>\n",
       "      <td>Friday</td>\n",
       "      <td>Thursday</td>\n",
       "    </tr>\n",
       "    <tr>\n",
       "      <th>63736</th>\n",
       "      <td>F</td>\n",
       "      <td>2016-05-03 13:02:39</td>\n",
       "      <td>2016-05-20 23:59:59</td>\n",
       "      <td>48</td>\n",
       "      <td>DA PENHA</td>\n",
       "      <td>1</td>\n",
       "      <td>0</td>\n",
       "      <td>0</td>\n",
       "      <td>0</td>\n",
       "      <td>0</td>\n",
       "      <td>0</td>\n",
       "      <td>No</td>\n",
       "      <td>17</td>\n",
       "      <td>Tuesday</td>\n",
       "      <td>Friday</td>\n",
       "    </tr>\n",
       "    <tr>\n",
       "      <th>107922</th>\n",
       "      <td>M</td>\n",
       "      <td>2016-04-01 11:55:57</td>\n",
       "      <td>2016-06-03 23:59:59</td>\n",
       "      <td>32</td>\n",
       "      <td>RESISTÊNCIA</td>\n",
       "      <td>0</td>\n",
       "      <td>0</td>\n",
       "      <td>0</td>\n",
       "      <td>0</td>\n",
       "      <td>0</td>\n",
       "      <td>0</td>\n",
       "      <td>Yes</td>\n",
       "      <td>63</td>\n",
       "      <td>Friday</td>\n",
       "      <td>Friday</td>\n",
       "    </tr>\n",
       "    <tr>\n",
       "      <th>31088</th>\n",
       "      <td>F</td>\n",
       "      <td>2016-04-19 09:10:16</td>\n",
       "      <td>2016-05-03 23:59:59</td>\n",
       "      <td>47</td>\n",
       "      <td>BENTO FERREIRA</td>\n",
       "      <td>0</td>\n",
       "      <td>0</td>\n",
       "      <td>0</td>\n",
       "      <td>0</td>\n",
       "      <td>0</td>\n",
       "      <td>1</td>\n",
       "      <td>No</td>\n",
       "      <td>14</td>\n",
       "      <td>Tuesday</td>\n",
       "      <td>Tuesday</td>\n",
       "    </tr>\n",
       "    <tr>\n",
       "      <th>36789</th>\n",
       "      <td>M</td>\n",
       "      <td>2016-05-04 13:11:40</td>\n",
       "      <td>2016-05-04 23:59:59</td>\n",
       "      <td>7</td>\n",
       "      <td>RESISTÊNCIA</td>\n",
       "      <td>0</td>\n",
       "      <td>0</td>\n",
       "      <td>0</td>\n",
       "      <td>0</td>\n",
       "      <td>0</td>\n",
       "      <td>0</td>\n",
       "      <td>No</td>\n",
       "      <td>0</td>\n",
       "      <td>Wednesday</td>\n",
       "      <td>Wednesday</td>\n",
       "    </tr>\n",
       "  </tbody>\n",
       "</table>\n",
       "</div>"
      ],
      "text/plain": [
       "       Gender        ScheduledDay      AppointmentDay  Age    Neighbourhood  \\\n",
       "72865       M 2016-05-11 07:19:19 2016-05-11 23:59:59   30       ANDORINHAS   \n",
       "67973       F 2016-03-23 10:25:25 2016-05-11 23:59:59   50   JARDIM CAMBURI   \n",
       "90016       F 2016-05-20 16:25:02 2016-06-03 23:59:59   43        SÃO PEDRO   \n",
       "89885       M 2016-04-26 07:59:33 2016-06-06 23:59:59   13           BONFIM   \n",
       "90756       F 2016-06-08 10:18:19 2016-06-08 23:59:59    1  JARDIM DA PENHA   \n",
       "49465       F 2016-05-06 07:41:59 2016-05-12 23:59:59   37    SANTOS DUMONT   \n",
       "63736       F 2016-05-03 13:02:39 2016-05-20 23:59:59   48         DA PENHA   \n",
       "107922      M 2016-04-01 11:55:57 2016-06-03 23:59:59   32      RESISTÊNCIA   \n",
       "31088       F 2016-04-19 09:10:16 2016-05-03 23:59:59   47   BENTO FERREIRA   \n",
       "36789       M 2016-05-04 13:11:40 2016-05-04 23:59:59    7      RESISTÊNCIA   \n",
       "\n",
       "        Scholarship  Hypertension  Diabetes  Alcoholism  Handicap  \\\n",
       "72865             0             0         0           0         0   \n",
       "67973             0             0         0           0         0   \n",
       "90016             1             0         0           0         0   \n",
       "89885             0             0         0           0         0   \n",
       "90756             0             0         0           0         0   \n",
       "49465             1             0         0           0         0   \n",
       "63736             1             0         0           0         0   \n",
       "107922            0             0         0           0         0   \n",
       "31088             0             0         0           0         0   \n",
       "36789             0             0         0           0         0   \n",
       "\n",
       "        SMSReceived NoShow  Waiting_Time_days ScheduledDay_DOfW  \\\n",
       "72865             0     No                  0         Wednesday   \n",
       "67973             1     No                 49         Wednesday   \n",
       "90016             1    Yes                 14            Friday   \n",
       "89885             1     No                 41           Tuesday   \n",
       "90756             0     No                  0         Wednesday   \n",
       "49465             1     No                  6            Friday   \n",
       "63736             0     No                 17           Tuesday   \n",
       "107922            0    Yes                 63            Friday   \n",
       "31088             1     No                 14           Tuesday   \n",
       "36789             0     No                  0         Wednesday   \n",
       "\n",
       "       AppointmentDay_DOfW  \n",
       "72865            Wednesday  \n",
       "67973            Wednesday  \n",
       "90016               Friday  \n",
       "89885               Monday  \n",
       "90756            Wednesday  \n",
       "49465             Thursday  \n",
       "63736               Friday  \n",
       "107922              Friday  \n",
       "31088              Tuesday  \n",
       "36789            Wednesday  "
      ]
     },
     "execution_count": 95,
     "metadata": {},
     "output_type": "execute_result"
    }
   ],
   "source": [
    "df.sample(n=10)"
   ]
  },
  {
   "cell_type": "markdown",
   "metadata": {},
   "source": [
    "**Check Show/NoShow ration**"
   ]
  },
  {
   "cell_type": "code",
   "execution_count": 98,
   "metadata": {
    "ExecuteTime": {
     "end_time": "2021-09-29T15:26:32.329218Z",
     "start_time": "2021-09-29T15:26:32.133923Z"
    },
    "scrolled": false
   },
   "outputs": [
    {
     "data": {
      "image/png": "[encoded data removed]",
      "text/plain": [
       "<Figure size 432x288 with 1 Axes>"
      ]
     },
     "metadata": {
      "needs_background": "light"
     },
     "output_type": "display_data"
    }
   ],
   "source": [
    "ax = sns.countplot(x=df.NoShow, data=df)\n",
    "ax.set_title(\"Show/NoShow Patients\")\n",
    "plt.show()"
   ]
  },
  {
   "cell_type": "markdown",
   "metadata": {},
   "source": [
    "**!!!IMPORTANT!!! - Clearly IMBALANCED DATASET**"
   ]
  },
  {
   "cell_type": "markdown",
   "metadata": {},
   "source": [
    "**Show/NoShow ration in genders**"
   ]
  },
  {
   "cell_type": "code",
   "execution_count": 99,
   "metadata": {
    "ExecuteTime": {
     "end_time": "2021-09-29T15:28:20.732089Z",
     "start_time": "2021-09-29T15:28:20.495738Z"
    }
   },
   "outputs": [
    {
     "data": {
      "image/png": "[encoded data removed]",
      "text/plain": [
       "<Figure size 432x288 with 1 Axes>"
      ]
     },
     "metadata": {
      "needs_background": "light"
     },
     "output_type": "display_data"
    }
   ],
   "source": [
    "ax = sns.countplot(x=df.Gender, hue=df.NoShow, data=df)\n",
    "ax.set_title(\"Show/NoShow for Females and Males\")\n",
    "x_ticks_labels=['Female', 'Male']\n",
    "ax.set_xticklabels(x_ticks_labels)\n",
    "plt.show()"
   ]
  },
  {
   "cell_type": "markdown",
   "metadata": {},
   "source": [
    "**Show/NoShow by Age**"
   ]
  },
  {
   "cell_type": "code",
   "execution_count": 100,
   "metadata": {
    "ExecuteTime": {
     "end_time": "2021-09-29T15:30:45.660708Z",
     "start_time": "2021-09-29T15:30:43.830781Z"
    },
    "scrolled": true
   },
   "outputs": [
    {
     "data": {
      "image/png": "[encoded data removed]",
      "text/plain": [
       "<Figure size 1152x288 with 1 Axes>"
      ]
     },
     "metadata": {
      "needs_background": "light"
     },
     "output_type": "display_data"
    }
   ],
   "source": [
    "plt.figure(figsize=(16,4))\n",
    "plt.xticks(rotation=90)\n",
    "ax = sns.countplot(x=df.Age, hue=df.NoShow)\n",
    "ax.set_title(\"Show/NoShow of Appointments by Age\")\n",
    "plt.show()"
   ]
  },
  {
   "cell_type": "markdown",
   "metadata": {},
   "source": [
    "**Show/NoShow by Neighbourhood**"
   ]
  },
  {
   "cell_type": "code",
   "execution_count": 103,
   "metadata": {
    "ExecuteTime": {
     "end_time": "2021-09-29T15:34:20.650156Z",
     "start_time": "2021-09-29T15:34:18.918109Z"
    },
    "scrolled": true
   },
   "outputs": [
    {
     "data": {
      "image/png": "[encoded data removed]",
      "text/plain": [
       "<Figure size 1152x288 with 1 Axes>"
      ]
     },
     "metadata": {
      "needs_background": "light"
     },
     "output_type": "display_data"
    }
   ],
   "source": [
    "plt.figure(figsize=(16,4))\n",
    "plt.xticks(rotation=90)\n",
    "ax = sns.countplot(x=df.Neighbourhood, hue=df.NoShow, order=df.Neighbourhood.value_counts().index)\n",
    "ax.set_title(\"Show/NoShow by Neighbourhood\")\n",
    "plt.show()"
   ]
  },
  {
   "cell_type": "markdown",
   "metadata": {},
   "source": [
    "**Show/NoShow by DOfW** "
   ]
  },
  {
   "cell_type": "code",
   "execution_count": 106,
   "metadata": {
    "ExecuteTime": {
     "end_time": "2021-09-29T15:37:14.573239Z",
     "start_time": "2021-09-29T15:37:14.304477Z"
    },
    "scrolled": true
   },
   "outputs": [
    {
     "data": {
      "image/png": "[encoded data removed]",
      "text/plain": [
       "<Figure size 1152x288 with 1 Axes>"
      ]
     },
     "metadata": {
      "needs_background": "light"
     },
     "output_type": "display_data"
    }
   ],
   "source": [
    "week_key = ['Monday','Tuesday','Wednesday','Thursday','Friday','Saturday','Sunday']\n",
    "plt.figure(figsize=(16,4))\n",
    "ax = sns.countplot(x=df.AppointmentDay_DOfW, hue=df.NoShow, order=week_key)\n",
    "ax.set_title(\"Show/NoShow for Appointment Day of the Week\")\n",
    "plt.show()"
   ]
  },
  {
   "cell_type": "markdown",
   "metadata": {},
   "source": [
    "**Waiting time and Show/NoShow ratio**"
   ]
  },
  {
   "cell_type": "code",
   "execution_count": 107,
   "metadata": {
    "ExecuteTime": {
     "end_time": "2021-09-29T15:38:50.809596Z",
     "start_time": "2021-09-29T15:38:49.699091Z"
    },
    "scrolled": false
   },
   "outputs": [
    {
     "data": {
      "image/png": "[encoded data removed]",
      "text/plain": [
       "<Figure size 1152x288 with 1 Axes>"
      ]
     },
     "metadata": {
      "needs_background": "light"
     },
     "output_type": "display_data"
    }
   ],
   "source": [
    "plt.figure(figsize=(16,4))\n",
    "ax = sns.countplot(x=df.Waiting_Time_days, hue=df.NoShow, order=df.Waiting_Time_days.value_counts(ascending=True).iloc[:55].index)\n",
    "ax.set_title(\"Show/NoShow Count for Waiting Time in Days (Low Count)\")\n",
    "plt.show()"
   ]
  },
  {
   "cell_type": "markdown",
   "metadata": {},
   "source": [
    "Adding extra columns by extracting information from DateTime and after drop it."
   ]
  },
  {
   "cell_type": "code",
   "execution_count": 108,
   "metadata": {
    "ExecuteTime": {
     "end_time": "2021-09-29T15:47:24.035530Z",
     "start_time": "2021-09-29T15:47:23.939177Z"
    }
   },
   "outputs": [],
   "source": [
    "df['ScheduledDay_Y'] = df['ScheduledDay'].dt.year\n",
    "df['ScheduledDay_M'] = df['ScheduledDay'].dt.month\n",
    "df['ScheduledDay_D'] = df['ScheduledDay'].dt.day\n",
    "df.drop(['ScheduledDay'], axis=1, inplace=True)\n",
    "\n",
    "df['AppointmentDay_Y'] = df['AppointmentDay'].dt.year\n",
    "df['AppointmentDay_M'] = df['AppointmentDay'].dt.month\n",
    "df['AppointmentDay_D'] = df['AppointmentDay'].dt.day\n",
    "df.drop(['AppointmentDay'], axis=1, inplace=True)"
   ]
  },
  {
   "cell_type": "code",
   "execution_count": 110,
   "metadata": {
    "ExecuteTime": {
     "end_time": "2021-09-29T15:48:55.086696Z",
     "start_time": "2021-09-29T15:48:55.070284Z"
    }
   },
   "outputs": [
    {
     "data": {
      "text/html": [
       "<div>\n",
       "<style scoped>\n",
       "    .dataframe tbody tr th:only-of-type {\n",
       "        vertical-align: middle;\n",
       "    }\n",
       "\n",
       "    .dataframe tbody tr th {\n",
       "        vertical-align: top;\n",
       "    }\n",
       "\n",
       "    .dataframe thead th {\n",
       "        text-align: right;\n",
       "    }\n",
       "</style>\n",
       "<table border=\"1\" class=\"dataframe\">\n",
       "  <thead>\n",
       "    <tr style=\"text-align: right;\">\n",
       "      <th></th>\n",
       "      <th>Gender</th>\n",
       "      <th>Age</th>\n",
       "      <th>Neighbourhood</th>\n",
       "      <th>Scholarship</th>\n",
       "      <th>Hypertension</th>\n",
       "      <th>Diabetes</th>\n",
       "      <th>Alcoholism</th>\n",
       "      <th>Handicap</th>\n",
       "      <th>SMSReceived</th>\n",
       "      <th>NoShow</th>\n",
       "      <th>Waiting_Time_days</th>\n",
       "      <th>ScheduledDay_DOfW</th>\n",
       "      <th>AppointmentDay_DOfW</th>\n",
       "      <th>ScheduledDay_Y</th>\n",
       "      <th>ScheduledDay_M</th>\n",
       "      <th>ScheduledDay_D</th>\n",
       "      <th>AppointmentDay_Y</th>\n",
       "      <th>AppointmentDay_M</th>\n",
       "      <th>AppointmentDay_D</th>\n",
       "    </tr>\n",
       "  </thead>\n",
       "  <tbody>\n",
       "    <tr>\n",
       "      <th>0</th>\n",
       "      <td>F</td>\n",
       "      <td>62</td>\n",
       "      <td>JARDIM DA PENHA</td>\n",
       "      <td>0</td>\n",
       "      <td>1</td>\n",
       "      <td>0</td>\n",
       "      <td>0</td>\n",
       "      <td>0</td>\n",
       "      <td>0</td>\n",
       "      <td>No</td>\n",
       "      <td>0</td>\n",
       "      <td>Friday</td>\n",
       "      <td>Friday</td>\n",
       "      <td>2016</td>\n",
       "      <td>4</td>\n",
       "      <td>29</td>\n",
       "      <td>2016</td>\n",
       "      <td>4</td>\n",
       "      <td>29</td>\n",
       "    </tr>\n",
       "    <tr>\n",
       "      <th>1</th>\n",
       "      <td>M</td>\n",
       "      <td>56</td>\n",
       "      <td>JARDIM DA PENHA</td>\n",
       "      <td>0</td>\n",
       "      <td>0</td>\n",
       "      <td>0</td>\n",
       "      <td>0</td>\n",
       "      <td>0</td>\n",
       "      <td>0</td>\n",
       "      <td>No</td>\n",
       "      <td>0</td>\n",
       "      <td>Friday</td>\n",
       "      <td>Friday</td>\n",
       "      <td>2016</td>\n",
       "      <td>4</td>\n",
       "      <td>29</td>\n",
       "      <td>2016</td>\n",
       "      <td>4</td>\n",
       "      <td>29</td>\n",
       "    </tr>\n",
       "    <tr>\n",
       "      <th>2</th>\n",
       "      <td>F</td>\n",
       "      <td>62</td>\n",
       "      <td>MATA DA PRAIA</td>\n",
       "      <td>0</td>\n",
       "      <td>0</td>\n",
       "      <td>0</td>\n",
       "      <td>0</td>\n",
       "      <td>0</td>\n",
       "      <td>0</td>\n",
       "      <td>No</td>\n",
       "      <td>0</td>\n",
       "      <td>Friday</td>\n",
       "      <td>Friday</td>\n",
       "      <td>2016</td>\n",
       "      <td>4</td>\n",
       "      <td>29</td>\n",
       "      <td>2016</td>\n",
       "      <td>4</td>\n",
       "      <td>29</td>\n",
       "    </tr>\n",
       "    <tr>\n",
       "      <th>3</th>\n",
       "      <td>F</td>\n",
       "      <td>8</td>\n",
       "      <td>PONTAL DE CAMBURI</td>\n",
       "      <td>0</td>\n",
       "      <td>0</td>\n",
       "      <td>0</td>\n",
       "      <td>0</td>\n",
       "      <td>0</td>\n",
       "      <td>0</td>\n",
       "      <td>No</td>\n",
       "      <td>0</td>\n",
       "      <td>Friday</td>\n",
       "      <td>Friday</td>\n",
       "      <td>2016</td>\n",
       "      <td>4</td>\n",
       "      <td>29</td>\n",
       "      <td>2016</td>\n",
       "      <td>4</td>\n",
       "      <td>29</td>\n",
       "    </tr>\n",
       "    <tr>\n",
       "      <th>4</th>\n",
       "      <td>F</td>\n",
       "      <td>56</td>\n",
       "      <td>JARDIM DA PENHA</td>\n",
       "      <td>0</td>\n",
       "      <td>1</td>\n",
       "      <td>1</td>\n",
       "      <td>0</td>\n",
       "      <td>0</td>\n",
       "      <td>0</td>\n",
       "      <td>No</td>\n",
       "      <td>0</td>\n",
       "      <td>Friday</td>\n",
       "      <td>Friday</td>\n",
       "      <td>2016</td>\n",
       "      <td>4</td>\n",
       "      <td>29</td>\n",
       "      <td>2016</td>\n",
       "      <td>4</td>\n",
       "      <td>29</td>\n",
       "    </tr>\n",
       "  </tbody>\n",
       "</table>\n",
       "</div>"
      ],
      "text/plain": [
       "  Gender  Age      Neighbourhood  Scholarship  Hypertension  Diabetes  \\\n",
       "0      F   62    JARDIM DA PENHA            0             1         0   \n",
       "1      M   56    JARDIM DA PENHA            0             0         0   \n",
       "2      F   62      MATA DA PRAIA            0             0         0   \n",
       "3      F    8  PONTAL DE CAMBURI            0             0         0   \n",
       "4      F   56    JARDIM DA PENHA            0             1         1   \n",
       "\n",
       "   Alcoholism  Handicap  SMSReceived NoShow  Waiting_Time_days  \\\n",
       "0           0         0            0     No                  0   \n",
       "1           0         0            0     No                  0   \n",
       "2           0         0            0     No                  0   \n",
       "3           0         0            0     No                  0   \n",
       "4           0         0            0     No                  0   \n",
       "\n",
       "  ScheduledDay_DOfW AppointmentDay_DOfW  ScheduledDay_Y  ScheduledDay_M  \\\n",
       "0            Friday              Friday            2016               4   \n",
       "1            Friday              Friday            2016               4   \n",
       "2            Friday              Friday            2016               4   \n",
       "3            Friday              Friday            2016               4   \n",
       "4            Friday              Friday            2016               4   \n",
       "\n",
       "   ScheduledDay_D  AppointmentDay_Y  AppointmentDay_M  AppointmentDay_D  \n",
       "0              29              2016                 4                29  \n",
       "1              29              2016                 4                29  \n",
       "2              29              2016                 4                29  \n",
       "3              29              2016                 4                29  \n",
       "4              29              2016                 4                29  "
      ]
     },
     "execution_count": 110,
     "metadata": {},
     "output_type": "execute_result"
    }
   ],
   "source": [
    "df.head()"
   ]
  }
 ],
 "metadata": {
  "kernelspec": {
   "display_name": "Python 3",
   "language": "python",
   "name": "python3"
  },
  "language_info": {
   "codemirror_mode": {
    "name": "ipython",
    "version": 3
   },
   "file_extension": ".py",
   "mimetype": "text/x-python",
   "name": "python",
   "nbconvert_exporter": "python",
   "pygments_lexer": "ipython3",
   "version": "3.8.5"
  }
 },
 "nbformat": 4,
 "nbformat_minor": 4
}
